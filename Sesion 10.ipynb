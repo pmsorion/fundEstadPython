{
 "cells": [
  {
   "cell_type": "code",
   "execution_count": 1,
   "metadata": {},
   "outputs": [],
   "source": [
    "import scipy.stats\n",
    "import numpy as np\n",
    "import pandas as pd\n",
    "import matplotlib.pyplot as plt\n",
    "import seaborn as sns\n",
    "%matplotlib inline"
   ]
  },
  {
   "cell_type": "code",
   "execution_count": 2,
   "metadata": {},
   "outputs": [
    {
     "data": {
      "text/plain": [
       "[0.05764801000000002,\n",
       " 0.1976503200000001,\n",
       " 0.2964754800000002,\n",
       " 0.25412184,\n",
       " 0.1361367,\n",
       " 0.04667544000000001,\n",
       " 0.010001879999999989,\n",
       " 0.0012247199999999988,\n",
       " 6.560999999999994e-05]"
      ]
     },
     "execution_count": 2,
     "metadata": {},
     "output_type": "execute_result"
    }
   ],
   "source": [
    "from scipy.stats import binom\n",
    "\n",
    "p = 0.3\n",
    "n = 8\n",
    "\n",
    "x = list(range(0,9,1))\n",
    "y = list()\n",
    "\n",
    "for i in x: \n",
    "    y.append( binom.pmf(i, p = p, n = n))\n",
    "    \n",
    "y"
   ]
  },
  {
   "cell_type": "code",
   "execution_count": 5,
   "metadata": {},
   "outputs": [
    {
     "data": {
      "text/plain": [
       "1.0000000000000002"
      ]
     },
     "execution_count": 5,
     "metadata": {},
     "output_type": "execute_result"
    },
    {
     "data": {
      "image/png": "[encoded data removed]",
      "text/plain": [
       "<Figure size 432x288 with 1 Axes>"
      ]
     },
     "metadata": {
      "needs_background": "light"
     },
     "output_type": "display_data"
    }
   ],
   "source": [
    "from scipy.stats import binom\n",
    "\n",
    "p = 0.3\n",
    "n = 8\n",
    "\n",
    "x = list(range(0,9,1))\n",
    "y = list()\n",
    "\n",
    "for i in x: \n",
    "    y.append( binom.pmf(i, p = p, n = n))\n",
    "    \n",
    "fig, ax = plt.subplots()\n",
    "ax.bar(x,y)\n",
    "ax.set_ylabel('Probabilidad discreta')\n",
    "\n",
    "np.sum(y)"
   ]
  },
  {
   "cell_type": "code",
   "execution_count": 8,
   "metadata": {},
   "outputs": [
    {
     "data": {
      "text/plain": [
       "(2.4, 1.68)"
      ]
     },
     "execution_count": 8,
     "metadata": {},
     "output_type": "execute_result"
    }
   ],
   "source": [
    "media = np.average(x, weights = y)\n",
    "\n",
    "varianza = np.average(((x - media)**2), weights = y )\n",
    "\n",
    "media, varianza"
   ]
  },
  {
   "cell_type": "code",
   "execution_count": 12,
   "metadata": {},
   "outputs": [
    {
     "data": {
      "text/plain": [
       "<matplotlib.legend.Legend at 0x7f371fd78b80>"
      ]
     },
     "execution_count": 12,
     "metadata": {},
     "output_type": "execute_result"
    },
    {
     "data": {
      "image/png": "[encoded data removed]",
      "text/plain": [
       "<Figure size 432x288 with 1 Axes>"
      ]
     },
     "metadata": {
      "needs_background": "light"
     },
     "output_type": "display_data"
    }
   ],
   "source": [
    "media = np.average(x, weights = y)\n",
    "\n",
    "varianza = np.average(((x - media)**2), weights = y )\n",
    "\n",
    "media, varianza\n",
    "\n",
    "fig, ax = plt.subplots()\n",
    "ax.bar(x,y)\n",
    "ax.set_ylabel('Probabilidad discreta')\n",
    "ax.axvline(x = media, c = 'r', linestyle = '--', label = 'Valor Esperado' )\n",
    "ax.axvline(x = media + 3*np.sqrt(varianza), c = 'g', linestyle = '--', label = 'Desviacion Estandar')\n",
    "ax.legend()"
   ]
  },
  {
   "cell_type": "code",
   "execution_count": null,
   "metadata": {},
   "outputs": [],
   "source": []
  }
 ],
 "metadata": {
  "kernelspec": {
   "display_name": "Python 3",
   "language": "python",
   "name": "python3"
  },
  "language_info": {
   "codemirror_mode": {
    "name": "ipython",
    "version": 3
   },
   "file_extension": ".py",
   "mimetype": "text/x-python",
   "name": "python",
   "nbconvert_exporter": "python",
   "pygments_lexer": "ipython3",
   "version": "3.8.5"
  }
 },
 "nbformat": 4,
 "nbformat_minor": 4
}
