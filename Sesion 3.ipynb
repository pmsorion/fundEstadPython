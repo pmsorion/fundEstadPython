{
 "cells": [
  {
   "cell_type": "code",
   "execution_count": 1,
   "metadata": {},
   "outputs": [],
   "source": [
    "import numpy as np\n",
    "import datetime\n",
    "from datetime import date"
   ]
  },
  {
   "cell_type": "code",
   "execution_count": 6,
   "metadata": {},
   "outputs": [
    {
     "name": "stdout",
     "output_type": "stream",
     "text": [
      "<class 'str'>\n",
      "<class 'int'>\n",
      "<class 'float'>\n",
      "<class 'float'>\n",
      "<class 'str'>\n"
     ]
    }
   ],
   "source": [
    "print(type('1'))\n",
    "print(type(0))\n",
    "print(type(1.1))\n",
    "\n",
    "print(type(1.1+1))\n",
    "print(type('1.1'+'1'))"
   ]
  },
  {
   "cell_type": "code",
   "execution_count": 10,
   "metadata": {},
   "outputs": [
    {
     "data": {
      "text/plain": [
       "6"
      ]
     },
     "execution_count": 10,
     "metadata": {},
     "output_type": "execute_result"
    }
   ],
   "source": [
    "1+1\n",
    "1-1\n",
    "1/2\n",
    "3%2\n",
    "3**2\n",
    "3*2"
   ]
  },
  {
   "cell_type": "code",
   "execution_count": 15,
   "metadata": {},
   "outputs": [
    {
     "data": {
      "text/plain": [
       "True"
      ]
     },
     "execution_count": 15,
     "metadata": {},
     "output_type": "execute_result"
    }
   ],
   "source": [
    "1>2\n",
    "1<2\n",
    "(1>2) & (1<2)\n",
    "(1>2) | (1<2)"
   ]
  },
  {
   "cell_type": "code",
   "execution_count": 20,
   "metadata": {},
   "outputs": [
    {
     "data": {
      "text/plain": [
       "2"
      ]
     },
     "execution_count": 20,
     "metadata": {},
     "output_type": "execute_result"
    }
   ],
   "source": [
    "list1 = ['1', 0, [1, 2]]\n",
    "list1\n",
    "list1[0]\n",
    "list1[1]\n",
    "list1[2]\n",
    "list1[2][1]"
   ]
  },
  {
   "cell_type": "code",
   "execution_count": 21,
   "metadata": {},
   "outputs": [],
   "source": [
    "universo = ['cara', 'sello']"
   ]
  },
  {
   "cell_type": "code",
   "execution_count": 22,
   "metadata": {},
   "outputs": [],
   "source": [
    "p_cara = 1 / 2"
   ]
  },
  {
   "cell_type": "code",
   "execution_count": 44,
   "metadata": {},
   "outputs": [
    {
     "name": "stdout",
     "output_type": "stream",
     "text": [
      "[1 1 0 1 1 0 1 1 1 0]\n",
      "7\n"
     ]
    }
   ],
   "source": [
    "from scipy.stats import bernoulli\n",
    "\n",
    "universo[bernoulli.rvs(p=p_cara)]\n",
    "print(bernoulli.rvs(p=p_cara, size = 10))\n",
    "print(sum(bernoulli.rvs(p=p_cara, size = 10)))\n"
   ]
  },
  {
   "cell_type": "code",
   "execution_count": 47,
   "metadata": {},
   "outputs": [],
   "source": [
    "from scipy.stats import binom"
   ]
  },
  {
   "cell_type": "code",
   "execution_count": 48,
   "metadata": {},
   "outputs": [
    {
     "data": {
      "text/plain": [
       "array([2, 7, 7, 9, 4, 5, 4, 6, 6, 6, 5, 3, 5, 7, 7, 3, 2, 4, 2, 3, 3, 4,\n",
       "       3, 3, 6, 5, 9, 5, 5, 4, 6, 8, 7, 8, 3, 7, 7, 4, 2, 3, 5, 6, 7, 2,\n",
       "       6, 9, 0, 8, 4, 8, 4, 5, 5, 7, 5, 3, 4, 7, 5, 5, 3, 6, 7, 5, 5, 3,\n",
       "       7, 4, 7, 5, 5, 6, 8, 7, 7, 4, 4, 6, 7, 7, 5, 4, 4, 3, 5, 4, 4, 6,\n",
       "       3, 3, 4, 5, 5, 6, 5, 7, 4, 6, 7, 4])"
      ]
     },
     "execution_count": 48,
     "metadata": {},
     "output_type": "execute_result"
    }
   ],
   "source": [
    "binom.rvs(p=p_cara, n = 10, size=100)"
   ]
  },
  {
   "cell_type": "code",
   "execution_count": 53,
   "metadata": {},
   "outputs": [],
   "source": [
    "import pandas as pd"
   ]
  },
  {
   "cell_type": "code",
   "execution_count": 55,
   "metadata": {},
   "outputs": [
    {
     "data": {
      "text/plain": [
       "6    0.27\n",
       "4    0.27\n",
       "5    0.20\n",
       "3    0.11\n",
       "7    0.09\n",
       "8    0.02\n",
       "2    0.02\n",
       "9    0.01\n",
       "1    0.01\n",
       "dtype: float64"
      ]
     },
     "execution_count": 55,
     "metadata": {},
     "output_type": "execute_result"
    }
   ],
   "source": [
    "pd.Series(binom.rvs(p=p_cara, n = 10, size=100)).value_counts()/100"
   ]
  },
  {
   "cell_type": "code",
   "execution_count": null,
   "metadata": {},
   "outputs": [],
   "source": []
  }
 ],
 "metadata": {
  "kernelspec": {
   "display_name": "Python 3",
   "language": "python",
   "name": "python3"
  },
  "language_info": {
   "codemirror_mode": {
    "name": "ipython",
    "version": 3
   },
   "file_extension": ".py",
   "mimetype": "text/x-python",
   "name": "python",
   "nbconvert_exporter": "python",
   "pygments_lexer": "ipython3",
   "version": "3.8.5"
  }
 },
 "nbformat": 4,
 "nbformat_minor": 4
}
